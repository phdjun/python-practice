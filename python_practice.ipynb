{
  "nbformat": 4,
  "nbformat_minor": 0,
  "metadata": {
    "colab": {
      "name": "python_practice.ipynb",
      "provenance": [],
      "collapsed_sections": [],
      "include_colab_link": true
    },
    "kernelspec": {
      "name": "python3",
      "display_name": "Python 3"
    },
    "language_info": {
      "name": "python"
    }
  },
  "cells": [
    {
      "cell_type": "markdown",
      "metadata": {
        "id": "view-in-github",
        "colab_type": "text"
      },
      "source": [
        "<a href=\"https://colab.research.google.com/github/phdjun/python-practice/blob/main/python_practice.ipynb\" target=\"_parent\"><img src=\"https://colab.research.google.com/assets/colab-badge.svg\" alt=\"Open In Colab\"/></a>"
      ]
    },
    {
      "cell_type": "markdown",
      "source": [
        "# Python Practice"
      ],
      "metadata": {
        "id": "rFBoI5WhIP9Q"
      }
    },
    {
      "cell_type": "markdown",
      "source": [
        "[1]"
      ],
      "metadata": {
        "id": "bFmML5AFRNYm"
      }
    },
    {
      "cell_type": "markdown",
      "source": [
        ""
      ],
      "metadata": {
        "id": "hy2GA9eKSfbt"
      }
    },
    {
      "cell_type": "markdown",
      "source": [
        "## input 함수와 print 함수"
      ],
      "metadata": {
        "id": "CwcJ8r6XL3QW"
      }
    },
    {
      "cell_type": "code",
      "execution_count": null,
      "metadata": {
        "id": "2m9FbvUoINBg",
        "colab": {
          "base_uri": "https://localhost:8080/"
        },
        "outputId": "eae850dc-a658-4405-b1d1-27258cb74fff"
      },
      "outputs": [
        {
          "output_type": "stream",
          "name": "stdout",
          "text": [
            "안녕하세요? 오늘 기분은 어떤가요?좋아요\n",
            "오늘 기분이 좋아요 라고 답했어요\n"
          ]
        }
      ],
      "source": [
        "# input 함수와 print 함수\n",
        "\n",
        "example = input(\"안녕하세요? 오늘 기분은 어떤가요?\")\n",
        "# exmaple 출력\n",
        "\n",
        "# f-string을 사용한 출력\n",
        "print(f\"오늘 기분이 {example} 라고 답했어요\")"
      ]
    },
    {
      "cell_type": "markdown",
      "source": [
        "## 문자열 자료형"
      ],
      "metadata": {
        "id": "scvQU6KpMAQq"
      }
    },
    {
      "cell_type": "code",
      "source": [
        "# sample code 작성하기\n",
        "str=\"sookmyung\"\n",
        "print(str[0])\n",
        "print(str[0:4])"
      ],
      "metadata": {
        "id": "YdhlDXoJKk3P",
        "colab": {
          "base_uri": "https://localhost:8080/"
        },
        "outputId": "1db20bb4-40e0-4f78-ddc6-e0cb354219e4"
      },
      "execution_count": null,
      "outputs": [
        {
          "output_type": "stream",
          "name": "stdout",
          "text": [
            "s\n",
            "sook\n"
          ]
        }
      ]
    },
    {
      "cell_type": "markdown",
      "source": [
        "## 리스트 자료형"
      ],
      "metadata": {
        "id": "Srb_7e00MBCK"
      }
    },
    {
      "cell_type": "code",
      "source": [
        "# sample code 작성하기\n",
        "my_list=[1,2,3,'hi!',4]\n",
        "print(my_list[3])\n",
        "print(my_list[0:3])"
      ],
      "metadata": {
        "id": "QysPX7v0MBhK",
        "colab": {
          "base_uri": "https://localhost:8080/"
        },
        "outputId": "9932a113-c3f5-4153-e040-d180c9da37f4"
      },
      "execution_count": null,
      "outputs": [
        {
          "output_type": "stream",
          "name": "stdout",
          "text": [
            "hi!\n",
            "[1, 2, 3]\n"
          ]
        }
      ]
    },
    {
      "cell_type": "markdown",
      "source": [
        "## 튜플 자료형"
      ],
      "metadata": {
        "id": "RBzDKWlSMC3P"
      }
    },
    {
      "cell_type": "code",
      "source": [
        "# sample code 작성하기\n",
        "my_tuple=(1,2,'a','b')\n",
        "print(my_tuple[3])\n",
        "print(my_tuple[1:])\n",
        "print(my_tuple[:])\n",
        "\n",
        "Jimin=('l','o','v','e')\n",
        "print(Jimin[1])"
      ],
      "metadata": {
        "id": "AalkYwrJMGJZ",
        "colab": {
          "base_uri": "https://localhost:8080/"
        },
        "outputId": "4562a47d-7547-4136-82c7-3e2960906413"
      },
      "execution_count": null,
      "outputs": [
        {
          "output_type": "stream",
          "name": "stdout",
          "text": [
            "b\n",
            "(2, 'a', 'b')\n",
            "(1, 2, 'a', 'b')\n",
            "o\n"
          ]
        }
      ]
    },
    {
      "cell_type": "markdown",
      "source": [
        "## 딕셔너리 자료형"
      ],
      "metadata": {
        "id": "454XHQQ8MGso"
      }
    },
    {
      "cell_type": "code",
      "source": [
        "# sample code 작성하기\n",
        "my_dict={'apple':500, 'banana':100, 'cat':7000, 'dong':7100}\n",
        "print(my_dict['apple'])"
      ],
      "metadata": {
        "id": "rmEeXjiNObBf",
        "colab": {
          "base_uri": "https://localhost:8080/"
        },
        "outputId": "005bd195-a4e8-4dd8-9b77-f303a098ca91"
      },
      "execution_count": null,
      "outputs": [
        {
          "output_type": "stream",
          "name": "stdout",
          "text": [
            "500\n"
          ]
        }
      ]
    },
    {
      "cell_type": "markdown",
      "source": [
        "# 미션 1\n",
        "#### 이름과 태어난 연도를 입력받아 나이와 함께 인사하는 코드 작성하기\n",
        "\n",
        "* 사용자에게 총 2번의 입력을 받아 각각 서로 다른 변수에 저장해주세요. <br>\n",
        "이름 (name), 태어난 해 (born)\n",
        "\n",
        "* 이 변수 2개를 모두 활용해 나이(age)를 계산한 다음, 인사를 하는 프로그램을 작성해주세요. <br>\n",
        "(예) 재석님, 안녕하세요! 올해 51살이 되셨군요?"
      ],
      "metadata": {
        "id": "AqwAnU0WOggx"
      }
    },
    {
      "cell_type": "code",
      "source": [
        "print(\"=\" * 50) #가로줄 출력\n",
        "\n",
        "# 각 값을 입력 받기\n",
        "name = input('이름이 무엇인가요?')\n",
        "born = int(input('몇년에 태어나셨나요?'))\n",
        "\n",
        "\n",
        "# 나이 계산하는 식 작성하기\n",
        "age = 2022-born+1\n",
        "\n",
        "print(\"=\" * 50)\n",
        "\n",
        "# f-string을 사용해 출력하기\n",
        "print(f\"{name}님 안녕하세요! 올해 {age}살이 되셨군요!\")\n",
        "\n"
      ],
      "metadata": {
        "id": "epyu09CtOsLn",
        "colab": {
          "base_uri": "https://localhost:8080/"
        },
        "outputId": "74396cc6-9ea3-4a8a-ca4d-9c0006d609e9"
      },
      "execution_count": null,
      "outputs": [
        {
          "output_type": "stream",
          "name": "stdout",
          "text": [
            "==================================================\n",
            "이름이 무엇인가요?전미나\n",
            "몇년에 태어나셨나요?1985\n",
            "==================================================\n",
            "전미나님 안녕하세요! 올해 38살이 되셨군요!\n",
            "이름이 무엇인가요?\n"
          ]
        }
      ]
    },
    {
      "cell_type": "code",
      "source": [
        ""
      ],
      "metadata": {
        "id": "r-1qL-1Xmm9D"
      },
      "execution_count": null,
      "outputs": []
    },
    {
      "cell_type": "markdown",
      "source": [
        "## while문"
      ],
      "metadata": {
        "id": "HgoDRNvpThAL"
      }
    },
    {
      "cell_type": "markdown",
      "source": [
        "## for문"
      ],
      "metadata": {
        "id": "doQkOs0aTlXB"
      }
    },
    {
      "cell_type": "code",
      "source": [
        "# sample code 작성하기\n",
        "password=\"sookmyung123\"\n",
        "my_input=input(\"PASSWORD:\")\n",
        "if password==my_input:\n",
        "   print(\"LOGIN)\")\n",
        "else:\n",
        "   print(\"FAIL\")\n",
        "\n",
        "password=123\n",
        "9password"
      ],
      "metadata": {
        "id": "_5nS-IyaTlKY"
      },
      "execution_count": null,
      "outputs": []
    },
    {
      "cell_type": "markdown",
      "source": [
        "## if문"
      ],
      "metadata": {
        "id": "u-2-BBE_Tpmw"
      }
    },
    {
      "cell_type": "code",
      "source": [
        "# sample code 작성하기\n",
        "age = int(input(\"나이 입력\"))\n",
        "if age<20:\n",
        "  print('20대 미만입니다.')\n",
        "elif age<=23:\n",
        "  print('20대 초반입니다')\n",
        "else:\n",
        "  print('늙었습니다.')\n",
        "\n",
        "print(age)"
      ],
      "metadata": {
        "id": "15Gww_3OTpUA",
        "colab": {
          "base_uri": "https://localhost:8080/"
        },
        "outputId": "cb9ce9eb-68be-4b35-cc3d-52a0af22f674"
      },
      "execution_count": null,
      "outputs": [
        {
          "output_type": "stream",
          "name": "stdout",
          "text": [
            "나이 입력50\n",
            "늙었습니다.\n",
            "50\n"
          ]
        }
      ]
    },
    {
      "cell_type": "markdown",
      "source": [
        "\n",
        "# 미션 2\n",
        "#### 몬스터 10마리를 잡으면 LEVEL UP!하는 프로그램 작성하기\n",
        "\n",
        "* 잡은 몬스터 수를 세는 변수에 초기값으로 0을 저장해주세요.\n",
        "* 반복문을 사용해서 몬스터를 잡을 때마다 1을 더해주세요.\n",
        "* 잡은 몬스터 수가 1마리 ~ 10마리일 때까지 현재 몬스터 수를 출력하고\n",
        "* 10마리가 되면 LEVEL UP!을 출력해주세요.\n"
      ],
      "metadata": {
        "id": "2Yx_mmrpboIW"
      }
    },
    {
      "cell_type": "code",
      "source": [
        "kill_count = 0\n",
        "Question=input('몬스터를 잡으시겠습니까?')\n",
        "if input==yes:\n",
        "  print(kill_count+1)\n",
        "else:\n",
        "  print(kill_count-1)\n",
        "\n",
        "while kill_count<10: \n",
        "  kill_count= kill_count+1\n",
        "  print('몬스터를 더 잡아야합니다.')\n",
        "  print(f'현재 몬스터 수:{kill_count}')\n",
        "print(f'level up')\n",
        "\n",
        "\n",
        "\n",
        "\n",
        "# 10번 반복하기\n",
        "\n",
        "# 반복문 안에서는 kill_count에 1을 더하고 현재 몬스터 수를 출력한다.\n"
      ],
      "metadata": {
        "id": "u6SIOQdEbon0",
        "colab": {
          "base_uri": "https://localhost:8080/"
        },
        "outputId": "ab89f180-c404-44ae-932c-f5be6c26740a"
      },
      "execution_count": null,
      "outputs": [
        {
          "output_type": "stream",
          "name": "stdout",
          "text": [
            "몬스터를 더 잡아야합니다.\n",
            "현재 몬스터 수:1\n",
            "몬스터를 더 잡아야합니다.\n",
            "현재 몬스터 수:2\n",
            "몬스터를 더 잡아야합니다.\n",
            "현재 몬스터 수:3\n",
            "몬스터를 더 잡아야합니다.\n",
            "현재 몬스터 수:4\n",
            "몬스터를 더 잡아야합니다.\n",
            "현재 몬스터 수:5\n",
            "몬스터를 더 잡아야합니다.\n",
            "현재 몬스터 수:6\n",
            "몬스터를 더 잡아야합니다.\n",
            "현재 몬스터 수:7\n",
            "몬스터를 더 잡아야합니다.\n",
            "현재 몬스터 수:8\n",
            "몬스터를 더 잡아야합니다.\n",
            "현재 몬스터 수:9\n",
            "몬스터를 더 잡아야합니다.\n",
            "현재 몬스터 수:10\n",
            "level up\n"
          ]
        }
      ]
    },
    {
      "cell_type": "markdown",
      "source": [
        "# 미션 3\n",
        "#### 카페 주문 프로그램 작성하기 (토요일 오전 미션)\n",
        "\n",
        "* 1번 메뉴는 아메리카노(4100원), 2번 메뉴는 카페라떼(4600원), 3번 메뉴는 바닐라라떼(5100원)입니다.\n",
        "* 주문하실 메뉴 번호(order)를 입력합니다.\n",
        "* 조건문을 이용해서 메뉴 번호(order)에 맞는 금액(price)이 계산되도록 식을 만들어주세요. (1을 입력하면 4100원, 2를 입력하면 4600원, 3을 입력하면 5100원)\n",
        "* 총 금액(total_price)을 구하는 식을 만들어주세요.\n",
        "* 투입한 금액(money)이 총 금액보다 크면 거스름돈(change)을 계산하고, 부족하면 주문을 취소합니다.\n",
        "* 메뉴 번호 4를 입력하면 주문이 취소되면서 반복문을 빠져나옵니다.\n",
        "\n"
      ],
      "metadata": {
        "id": "17AqYKjngEo3"
      }
    },
    {
      "cell_type": "code",
      "source": [
        "while True :\n",
        "  print(\"=\" * 45)\n",
        "  menu = \" 1. 아메리카노 : 4100원 \\n 2. 카페라떼 : 4600원 \\n 3. 바닐라라떼 : 5100원 \\n 4. 주문 종료\"\n",
        "  print(menu)\n",
        "  print(\"=\" * 45)\n",
        "\n",
        "  # 커피 종류를 입력받습니다. \n",
        "  order = \n",
        "\n",
        "  if 1 <= order <= 3 :\n",
        "    # 입력한 커피 가격을 price 변수에 넣어줍니다. \n",
        "\n",
        "\n",
        "\n",
        "\n",
        "\n",
        "\n",
        "\n",
        "    cups = int(input(\"몇 잔을 드릴까요? 잔 수 입력 >>> \"))\n",
        "    # 총 금액을 계산하고 total_price 변수에 넣어줍니다.\n",
        "\n",
        "\n",
        "\n",
        "    money = int(input(f\"총 금액은 {total_price}원 입니다. 돈을 투입해주세요 >>> \"))\n",
        "    # 총 금액보다 투입 금액이 큰 경우 거스름돈을 계산하고 출력합니다.\n",
        "    if \n",
        "\n",
        "\n",
        "\n",
        "    # 총 금액보다 작은 금액을 입력한 경우 주문을 취소합니다.\n",
        "    else :\n",
        "      print(\"금액이 부족합니다. 주문이 취소되었습니다.\")\n",
        "\n",
        "\n",
        "  elif order == 4 :\n",
        "    # 4를 입력하면 주문을 종료하고 반복문을 빠져나갑니다.\n",
        "    print(\"주문을 종료합니다.\")\n",
        "    # 반복문 빠져나가기\n",
        "\n",
        "\n",
        "\n",
        "  # 1,2,3,4가 아닌 다른 숫자를 입력한 경우 \"잘못된 주문입니다\"를 출력합니다.\n",
        "  else :\n",
        "      print(\"잘못된 주문입니다.\")"
      ],
      "metadata": {
        "id": "wRrKf3NJg_yy"
      },
      "execution_count": null,
      "outputs": []
    }
  ]
}